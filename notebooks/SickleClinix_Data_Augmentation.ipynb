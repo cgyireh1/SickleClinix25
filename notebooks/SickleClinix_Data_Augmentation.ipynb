{
  "nbformat": 4,
  "nbformat_minor": 0,
  "metadata": {
    "colab": {
      "provenance": [],
      "mount_file_id": "15wFJHq6CCNOV_B-XX4LN_dP64XEb6iBh",
      "authorship_tag": "ABX9TyMezbo1oYufVIEpq0cd7cKO",
      "include_colab_link": true
    },
    "kernelspec": {
      "name": "python3",
      "display_name": "Python 3"
    },
    "language_info": {
      "name": "python"
    }
  },
  "cells": [
    {
      "cell_type": "markdown",
      "metadata": {
        "id": "view-in-github",
        "colab_type": "text"
      },
      "source": [
        "<a href=\"https://colab.research.google.com/github/cgyireh1/SickleClinix25/blob/main/notebooks/SickleClinix_Data_Augmentation.ipynb\" target=\"_parent\"><img src=\"https://colab.research.google.com/assets/colab-badge.svg\" alt=\"Open In Colab\"/></a>"
      ]
    },
    {
      "cell_type": "markdown",
      "source": [
        "# SickleClinix Data Augmentation"
      ],
      "metadata": {
        "id": "-BisuBrjF7JI"
      }
    },
    {
      "cell_type": "markdown",
      "source": [
        "Total Data size: 991"
      ],
      "metadata": {
        "id": "BwRUOJS1B15I"
      }
    },
    {
      "cell_type": "code",
      "source": [
        "dir = '/content/drive/MyDrive/CAPSTONE/sickle-dataset'\n",
        "from pathlib import Path\n",
        "\n",
        "num_images = len(list(Path(dir).glob('*/*/*.jpg')))\n",
        "num_images"
      ],
      "metadata": {
        "colab": {
          "base_uri": "https://localhost:8080/"
        },
        "id": "ZJSxlYoAeeaA",
        "outputId": "60ddfc84-9cde-45c4-c43d-c294d3d3388f"
      },
      "execution_count": null,
      "outputs": [
        {
          "output_type": "execute_result",
          "data": {
            "text/plain": [
              "991"
            ]
          },
          "metadata": {},
          "execution_count": 1
        }
      ]
    },
    {
      "cell_type": "code",
      "source": [
        "# Check the folders and number of images in the dataset\n",
        "import os\n",
        "\n",
        "for category in ['Positive', 'Negative']:\n",
        "    category_path = os.path.join(dir, category)\n",
        "\n",
        "    for subfolder in os.listdir(category_path):\n",
        "        subfolder_path = os.path.join(category_path, subfolder)\n",
        "\n",
        "        if os.path.isdir(subfolder_path):\n",
        "            jpg_count = sum(1 for f in os.listdir(subfolder_path) if f.lower().endswith('.jpg'))\n",
        "            print(f\"{subfolder} ({category}): {jpg_count} files\")"
      ],
      "metadata": {
        "colab": {
          "base_uri": "https://localhost:8080/"
        },
        "id": "lYu8clML2jQf",
        "outputId": "1ea47f45-1393-47f6-8d83-b2c8a1b5420d"
      },
      "execution_count": null,
      "outputs": [
        {
          "output_type": "stream",
          "name": "stdout",
          "text": [
            "Labelled (Positive): 422 files\n",
            "Unlabelled (Positive): 422 files\n",
            "Clear (Negative): 147 files\n"
          ]
        }
      ]
    },
    {
      "cell_type": "markdown",
      "source": [
        "## **Data Augmentation**\n",
        "\n",
        "Data augmentation is a technique for expanding and diversifying datasets particularly in image processing. By applying various transformations to existing data we can create new training examples that help improve model generalization, reduce overfitting and enhance robustness.\n",
        "\n",
        "### **Tools and Libraries for Image Data Augmentation**\n",
        "\n",
        "**TensorFlow:** TensorFlow’s tf.image module provides functions for image transformations.\n",
        "\n",
        "**Keras:** Keras offers the ImageDataGenerator class for real-time data augmentation.\n",
        "\n",
        "**PyTorch:** PyTorch’s torchvision.transforms module includes a wide range of augmentation techniques.\n",
        "\n",
        "**Albumentations:** A fast image augmentation library with a rich set of transformations.\n",
        "\n",
        "**imgaug:** A flexible library for image augmentation with support for various augmentations. (GeeksforGeeks, 2025)\n",
        "\n",
        "\n",
        "\n",
        "### **- Notes On the Original dataset:**\n",
        "- Imbalanced data"
      ],
      "metadata": {
        "id": "ZOlyJUowFtd4"
      }
    },
    {
      "cell_type": "code",
      "source": [
        "# import necessary libraries\n",
        "import os\n",
        "import cv2\n",
        "import shutil\n",
        "import numpy as np\n",
        "from tqdm import tqdm\n",
        "import tensorflow as tf\n",
        "import albumentations as A\n",
        "from datetime import datetime\n",
        "import matplotlib.pyplot as plt\n",
        "from tensorflow.keras.preprocessing.image import ImageDataGenerator"
      ],
      "metadata": {
        "id": "rRNfR5ke9RH_"
      },
      "execution_count": null,
      "outputs": []
    },
    {
      "cell_type": "code",
      "source": [
        "%%capture\n",
        "!pip install -q albumentations opencv-python"
      ],
      "metadata": {
        "id": "oiOeblczu1hI"
      },
      "execution_count": null,
      "outputs": []
    },
    {
      "cell_type": "code",
      "source": [
        "base_dir = '/content/drive/MyDrive/CAPSTONE/sickle-dataset'\n",
        "nosorting_dir = '/content/drive/MyDrive/CAPSTONE/sickle-data-augmented/Augmented_Without-Sorting'\n",
        "\n",
        "# Augmentation settings\n",
        "positive_aug = A.Compose([\n",
        "    A.HorizontalFlip(p=0.5),\n",
        "    A.Rotate(limit=20, p=0.7),\n",
        "    A.RandomBrightnessContrast(p=0.5),\n",
        "    A.ShiftScaleRotate(shift_limit=0.1, scale_limit=0.1, rotate_limit=15, p=0.7),\n",
        "    A.GaussianBlur(p=0.2),\n",
        "    A.GaussNoise(p=0.2),\n",
        "])\n",
        "\n",
        "negative_aug = A.Compose([\n",
        "    A.HorizontalFlip(p=0.7),\n",
        "    A.Rotate(limit=30, p=0.8),\n",
        "    A.RandomBrightnessContrast(p=0.6),\n",
        "    A.GaussNoise(p=0.3),\n",
        "    A.ElasticTransform(alpha=1, sigma=50, alpha_affine=20, p=0.3),\n",
        "    A.GridDistortion(p=0.3),\n",
        "    A.GaussianBlur(p=0.3),\n",
        "    A.ShiftScaleRotate(shift_limit=0.2, scale_limit=0.2, rotate_limit=25, p=0.8),\n",
        "])\n"
      ],
      "metadata": {
        "id": "Pk7lhVenmn64",
        "colab": {
          "base_uri": "https://localhost:8080/"
        },
        "outputId": "67a44210-e445-4797-c7ad-56179f27a7b2"
      },
      "execution_count": null,
      "outputs": [
        {
          "output_type": "stream",
          "name": "stderr",
          "text": [
            "/usr/local/lib/python3.11/dist-packages/albumentations/core/validation.py:114: UserWarning: ShiftScaleRotate is a special case of Affine transform. Please use Affine transform instead.\n",
            "  original_init(self, **validated_kwargs)\n",
            "<ipython-input-5-9a9e7b84dc81>:19: UserWarning: Argument(s) 'alpha_affine' are not valid for transform ElasticTransform\n",
            "  A.ElasticTransform(alpha=1, sigma=50, alpha_affine=20, p=0.3),\n"
          ]
        }
      ]
    },
    {
      "cell_type": "code",
      "source": [
        "# Augmentation function to apply the augmentation\n",
        "def augment_images(input_folder, output_folder, target_count, augmenter):\n",
        "    os.makedirs(output_folder, exist_ok=True)\n",
        "    images = [f for f in os.listdir(input_folder) if f.lower().endswith(('.jpg'))]\n",
        "\n",
        "    current_count = len(os.listdir(output_folder))\n",
        "    needed = target_count - current_count\n",
        "\n",
        "    print(f\"\\n Augmenting {input_folder} → {output_folder}\")\n",
        "    print(f\"Currently: {current_count}, Need: {needed}\")\n",
        "\n",
        "    if needed <= 0:\n",
        "        print(\" Already balanced.\")\n",
        "        return\n",
        "\n",
        "    i = 0\n",
        "    while i < needed:\n",
        "        for img_name in images:\n",
        "            img_path = os.path.join(input_folder, img_name)\n",
        "            image = cv2.imread(img_path)\n",
        "\n",
        "            if image is None:\n",
        "                continue\n",
        "\n",
        "            image = cv2.cvtColor(image, cv2.COLOR_BGR2RGB)\n",
        "            augmented = augmenter(image=image)['image']\n",
        "            aug_img = cv2.cvtColor(augmented, cv2.COLOR_RGB2BGR)\n",
        "\n",
        "            timestamp = datetime.now().strftime(\"%Y%m%d%H%M%S%f\")\n",
        "            out_path = os.path.join(output_folder, f\"aug_{timestamp}.jpg\")\n",
        "            cv2.imwrite(out_path, aug_img)\n",
        "\n",
        "            i += 1\n",
        "            if i >= needed:\n",
        "                break\n",
        "\n",
        "    print(f\" Final count: {len(os.listdir(output_folder))}\")\n",
        "\n",
        "\n",
        "pairs = [\n",
        "    # Positive class\n",
        "    (f'{base_dir}/Positive/Labelled', f'{nosorting_dir}/Positive/Labelled_augmented', 500, positive_aug),\n",
        "    (f'{base_dir}/Positive/Unlabelled', f'{nosorting_dir}/Positive/Unlabelled_augmented', 500, positive_aug),\n",
        "\n",
        "    # Negative class\n",
        "    (f'{base_dir}/Negative/Clear', f'{nosorting_dir}/Negative/Clear_augmented', 1000, negative_aug),\n",
        "]\n",
        "\n",
        "for src, dst, tgt, aug in pairs:\n",
        "    augment_images(src, dst, tgt, aug)"
      ],
      "metadata": {
        "colab": {
          "base_uri": "https://localhost:8080/"
        },
        "id": "nR0BBsCkEhyW",
        "outputId": "37f8a400-9aa5-4f54-89a9-d54d6e06bea6"
      },
      "execution_count": null,
      "outputs": [
        {
          "output_type": "stream",
          "name": "stdout",
          "text": [
            "\n",
            " Augmenting /content/drive/MyDrive/CAPSTONE/sickle-dataset/Positive/Labelled → /content/drive/MyDrive/CAPSTONE/sickle-data-augmented/Augmented_Without-Sorting/Positive/Labelled_augmented\n",
            "Currently: 0, Need: 500\n",
            " Final count: 500\n",
            "\n",
            " Augmenting /content/drive/MyDrive/CAPSTONE/sickle-dataset/Positive/Unlabelled → /content/drive/MyDrive/CAPSTONE/sickle-data-augmented/Augmented_Without-Sorting/Positive/Unlabelled_augmented\n",
            "Currently: 0, Need: 500\n",
            " Final count: 500\n",
            "\n",
            " Augmenting /content/drive/MyDrive/CAPSTONE/sickle-dataset/Negative/Clear → /content/drive/MyDrive/CAPSTONE/sickle-data-augmented/Augmented_Without-Sorting/Negative/Clear_augmented\n",
            "Currently: 722, Need: 278\n",
            " Final count: 1000\n"
          ]
        }
      ]
    },
    {
      "cell_type": "code",
      "source": [
        "# ncomfirm number images generated\n",
        "for category in ['Positive', 'Negative']:\n",
        "    category_path = os.path.join(nosorting_dir, category)\n",
        "\n",
        "    for subfolder in os.listdir(category_path):\n",
        "        subfolder_path = os.path.join(category_path, subfolder)\n",
        "\n",
        "        if os.path.isdir(subfolder_path):\n",
        "            jpg_count = sum(1 for f in os.listdir(subfolder_path) if f.lower().endswith('.jpg'))\n",
        "            print(f\"{subfolder} ({category}): {jpg_count} files\")"
      ],
      "metadata": {
        "colab": {
          "base_uri": "https://localhost:8080/"
        },
        "id": "OkGeNIRasL8s",
        "outputId": "ddd4263a-dd23-478d-d5a4-336dc9641154"
      },
      "execution_count": null,
      "outputs": [
        {
          "output_type": "stream",
          "name": "stdout",
          "text": [
            "Labelled_augmented (Positive): 500 files\n",
            "Unlabelled_augmented (Positive): 500 files\n",
            "Clear_augmented (Negative): 1000 files\n"
          ]
        }
      ]
    },
    {
      "cell_type": "markdown",
      "source": [
        "### Sorting Data to Sickle and Normal folders for training"
      ],
      "metadata": {
        "id": "GFa2f4i00Y0V"
      }
    },
    {
      "cell_type": "code",
      "source": [
        "dir = '/content/drive/MyDrive/CAPSTONE/sickle-dataset'\n",
        "nosort_dir = '/content/drive/MyDrive/CAPSTONE/sickle-data-augmented/Augmented_Without-Sorting'\n",
        "aug_dir  = '/content/drive/MyDrive/CAPSTONE/sickle-data-augmented/Augmented-Sorted'\n",
        "\n",
        "# Input folder paths\n",
        "labelled = os.path.join(dir, 'Positive', 'Labelled')\n",
        "unlabelled = os.path.join(dir, 'Positive', 'Unlabelled')\n",
        "clear = os.path.join(dir, 'Negative', 'Clear')\n",
        "labelled_aug = os.path.join(nosort_dir, 'Positive', 'Labelled_augmented')\n",
        "unlabelled_aug = os.path.join(nosort_dir, 'Positive', 'Unlabelled_augmented')\n",
        "clear_aug = os.path.join(nosort_dir, 'Negative', 'Clear_augmented')\n",
        "\n",
        "# Output folder paths\n",
        "sickle = os.path.join(aug_dir, 'Sickle')\n",
        "normal = os.path.join(aug_dir, 'Normal')\n",
        "\n",
        "# Create output folders\n",
        "os.makedirs(sickle, exist_ok=True)\n",
        "os.makedirs(normal, exist_ok=True)"
      ],
      "metadata": {
        "id": "lZf_KrVb2Vy7"
      },
      "execution_count": null,
      "outputs": []
    },
    {
      "cell_type": "code",
      "source": [
        "# Moving Positive images\n",
        "for folder_path in [labelled_aug, unlabelled_aug, labelled, unlabelled]:\n",
        "    for filename in os.listdir(folder_path):\n",
        "        src = os.path.join(folder_path, filename)\n",
        "        dst = os.path.join(sickle, f\"{os.path.basename(folder_path)}_{filename}\")\n",
        "        if os.path.isfile(src):\n",
        "            shutil.copy(src, dst)\n",
        "\n",
        "# Moving Negative images\n",
        "for f_path in [clear_aug, clear]:\n",
        "    for filename in os.listdir(f_path):\n",
        "      src = os.path.join(f_path, filename)\n",
        "      dst = os.path.join(normal, f\"{os.path.basename(f_path)}_{filename}\")\n",
        "      if os.path.isfile(src):\n",
        "          shutil.copy(src, dst)"
      ],
      "metadata": {
        "id": "yD61pdg8MoNq"
      },
      "execution_count": null,
      "outputs": []
    },
    {
      "cell_type": "code",
      "source": [
        "print(f\" Total images in:\")\n",
        "print(f\"- Sickle: {len(os.listdir(sickle))}\")\n",
        "print(f\"- Normal: {len(os.listdir(normal))}\")"
      ],
      "metadata": {
        "colab": {
          "base_uri": "https://localhost:8080/"
        },
        "id": "CzNlrbqhP7rM",
        "outputId": "e2c521d8-b452-4d1e-d85f-56a85ca019f4"
      },
      "execution_count": null,
      "outputs": [
        {
          "output_type": "stream",
          "name": "stdout",
          "text": [
            " Total images in:\n",
            "- Sickle: 1844\n",
            "- Normal: 1147\n"
          ]
        }
      ]
    },
    {
      "cell_type": "markdown",
      "source": [],
      "metadata": {
        "id": "Np3PMfxHyHYR"
      }
    },
    {
      "cell_type": "markdown",
      "source": [
        "**References**\n",
        "\n",
        "What is data augmentation? How does data augmentation work for images? (2025). GeeksforGeeks. [Link to Page](https://colab.research.google.com/drive/15wFJHq6CCNOV_B-XX4LN_dP64XEb6iBh#scrollTo=ZOlyJUowFtd4&line=5&uniqifier=1)\n",
        "\n",
        "Dataset: Florence Tushabe, Sickle Cell Disease Dataset, Kaggle (2024). Available at: https://www.kaggle.com/datasets/florencetushabe/sickle-cell-disease-dataset\n",
        "\n"
      ],
      "metadata": {
        "id": "UUk_OiSzwrae"
      }
    }
  ]
}